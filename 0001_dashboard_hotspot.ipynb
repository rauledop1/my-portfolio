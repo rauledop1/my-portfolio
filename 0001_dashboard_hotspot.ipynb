{
  "nbformat": 4,
  "nbformat_minor": 0,
  "metadata": {
    "colab": {
      "provenance": [],
      "mount_file_id": "1ustzuWU5eR1KxGlYoAQ8jwTb6bUulNrM",
      "authorship_tag": "ABX9TyPo5pZUn/WY6AAEpPZYVQNX",
      "include_colab_link": true
    },
    "kernelspec": {
      "name": "python3",
      "display_name": "Python 3"
    },
    "language_info": {
      "name": "python"
    }
  },
  "cells": [
    {
      "cell_type": "markdown",
      "metadata": {
        "id": "view-in-github",
        "colab_type": "text"
      },
      "source": [
        "<a href=\"https://colab.research.google.com/github/rauledop1/my-portfolio/blob/main/0001_dashboard_hotspot.ipynb\" target=\"_parent\"><img src=\"https://colab.research.google.com/assets/colab-badge.svg\" alt=\"Open In Colab\"/></a>"
      ]
    },
    {
      "cell_type": "code",
      "execution_count": 45,
      "metadata": {
        "id": "Dg9fh7w_FLSL",
        "colab": {
          "base_uri": "https://localhost:8080/"
        },
        "outputId": "c60fc60d-b6bc-437d-eed4-1689b2d20899"
      },
      "outputs": [
        {
          "output_type": "stream",
          "name": "stderr",
          "text": [
            "Downloading...\n",
            "From: https://stacks.stanford.edu/file/druid:yb205cg6773/data.zip\n",
            "To: /content/data.zip\n",
            "100%|██████████| 2.20M/2.20M [00:01<00:00, 1.38MB/s]\n"
          ]
        },
        {
          "output_type": "stream",
          "name": "stdout",
          "text": [
            "Extracting files...\n"
          ]
        },
        {
          "output_type": "stream",
          "name": "stderr",
          "text": [
            "Downloading...\n",
            "From: https://stacks.stanford.edu/file/druid:cy135qp9262/data.zip\n",
            "To: /content/data.zip\n",
            "100%|██████████| 7.22M/7.22M [00:04<00:00, 1.77MB/s]\n"
          ]
        },
        {
          "output_type": "stream",
          "name": "stdout",
          "text": [
            "Extracting files...\n"
          ]
        },
        {
          "output_type": "stream",
          "name": "stderr",
          "text": [
            "Downloading...\n",
            "From: https://stacks.stanford.edu/file/druid:xq016gn9637/data.zip\n",
            "To: /content/data.zip\n",
            "100%|██████████| 5.16M/5.16M [00:02<00:00, 1.75MB/s]\n"
          ]
        },
        {
          "output_type": "stream",
          "name": "stdout",
          "text": [
            "Extracting files...\n"
          ]
        },
        {
          "output_type": "stream",
          "name": "stderr",
          "text": [
            "Downloading...\n",
            "From: https://stacks.stanford.edu/file/druid:bs788qq4876/data.zip\n",
            "To: /content/data.zip\n",
            "100%|██████████| 6.84M/6.84M [00:03<00:00, 1.78MB/s]\n"
          ]
        },
        {
          "output_type": "stream",
          "name": "stdout",
          "text": [
            "Extracting files...\n"
          ]
        },
        {
          "output_type": "stream",
          "name": "stderr",
          "text": [
            "Downloading...\n",
            "From: https://stacks.stanford.edu/file/druid:gv908jn2631/data.zip\n",
            "To: /content/data.zip\n",
            "100%|██████████| 2.46M/2.46M [00:01<00:00, 1.67MB/s]\n"
          ]
        },
        {
          "output_type": "stream",
          "name": "stdout",
          "text": [
            "Extracting files...\n"
          ]
        },
        {
          "output_type": "stream",
          "name": "stderr",
          "text": [
            "Downloading...\n",
            "From: https://stacks.stanford.edu/file/druid:mj028ht5751/data.zip\n",
            "To: /content/data.zip\n",
            "100%|██████████| 1.12M/1.12M [00:00<00:00, 1.46MB/s]\n"
          ]
        },
        {
          "output_type": "stream",
          "name": "stdout",
          "text": [
            "Extracting files...\n"
          ]
        },
        {
          "output_type": "stream",
          "name": "stderr",
          "text": [
            "Downloading...\n",
            "From: https://firms.modaps.eosdis.nasa.gov/data/active_fire/modis-c6.1/csv/MODIS_C6_1_South_America_48h.csv\n",
            "To: /content/MODIS_C6_1_South_America_48h.csv\n",
            "100%|██████████| 2.20M/2.20M [00:00<00:00, 24.5MB/s]\n",
            "Downloading...\n",
            "From: https://firms.modaps.eosdis.nasa.gov/data/active_fire/modis-c6.1/csv/MODIS_C6_1_Central_America_48h.csv\n",
            "To: /content/MODIS_C6_1_Central_America_48h.csv\n",
            "100%|██████████| 59.6k/59.6k [00:00<00:00, 7.83MB/s]\n"
          ]
        }
      ],
      "source": [
        "#%pip install leafmap duckdb mapclassify\n",
        "import duckdb\n",
        "import leafmap\n",
        "import pandas as pd\n",
        "import os\n",
        "\n",
        "#Create a temporal DB\n",
        "con = duckdb.connect()\n",
        "\n",
        "#Load spatial and http extensions\n",
        "con.sql('''\n",
        "install httpfs;\n",
        "load httpfs;\n",
        "INSTALL spatial;\n",
        "LOAD spatial;\n",
        "''')\n",
        "\n",
        "#from FIRMS\n",
        "firms_sa='https://firms.modaps.eosdis.nasa.gov/data/active_fire/modis-c6.1/csv/MODIS_C6_1_South_America_48h.csv'\n",
        "firms_ca='https://firms.modaps.eosdis.nasa.gov/data/active_fire/modis-c6.1/csv/MODIS_C6_1_Central_America_48h.csv'\n",
        "\n",
        "#administrative boundary from url shp. https://hgl.harvard.edu/catalog\n",
        "ARG='https://stacks.stanford.edu/file/druid:yb205cg6773/data.zip'\n",
        "CHL='https://stacks.stanford.edu/file/druid:cy135qp9262/data.zip'\n",
        "PER='https://stacks.stanford.edu/file/druid:gv908jn2631/data.zip'\n",
        "COL='https://stacks.stanford.edu/file/druid:mj028ht5751/data.zip'\n",
        "BRA='https://stacks.stanford.edu/file/druid:bs788qq4876/data.zip'\n",
        "MEX='https://stacks.stanford.edu/file/druid:xq016gn9637/data.zip'\n",
        "PER='https://stacks.stanford.edu/file/druid:gv908jn2631/data.zip'\n",
        "\n",
        "#Download to local all information csv and shp files\n",
        "country = [ARG,CHL,MEX,BRA,PER,COL]\n",
        "firms=[firms_sa,firms_ca]\n",
        "for i in country:\n",
        "  leafmap.download_file(i, unzip=True)\n",
        "  os.remove('data.zip')\n",
        "for i in firms:\n",
        "  leafmap.download_file(i, overwrite=True)\n",
        "\n",
        "#Create an union of all countries downloaded\n",
        "con.sql('''\n",
        "  create table paises as\n",
        "  select * from st_read('CHL_adm2.shp')\n",
        "  union\n",
        "  select * from st_read('ARG_adm2.shp')\n",
        "  union\n",
        "  select * from st_read('BRA_adm2.shp')\n",
        "  union\n",
        "  select * from st_read('MEX_adm2.shp')\n",
        "  union\n",
        "  select * from st_read('COL_adm2.shp')\n",
        "  union\n",
        "  select * from st_read('PER_adm2.shp')\n",
        "  ''')\n",
        "\n",
        "#Create spatial intersection and save the result into csv file\n",
        "con.sql('''\n",
        "with fire as ((select\n",
        "  case when daynight='N' then 'Night' else 'Day' end as daynight,\n",
        "  satellite,\n",
        "  (acq_date||' '||left(acq_time,2)||':'||right(acq_time,2)||':00')::datetime as datetime,\n",
        "  st_point(longitude::numeric, latitude::numeric) as geom\n",
        "  from st_read('MODIS_C6_1_South_America_48h.csv'))\n",
        "  union\n",
        "  (select\n",
        "  case when daynight='N' then 'Night' else 'Day' end as daynight,\n",
        "  satellite,\n",
        "  (acq_date||' '||left(acq_time,2)||':'||right(acq_time,2)||':00')::datetime as datetime,\n",
        "  st_point(longitude::numeric, latitude::numeric) as geom\n",
        "  from st_read('MODIS_C6_1_Central_America_48h.csv'))\n",
        "  )\n",
        "select p.ISO,\n",
        "p.NAME_0,\n",
        "p.NAME_1,\n",
        "p.NAME_2,\n",
        "p.HASC_2,\n",
        "f.daynight,\n",
        "f.satellite,\n",
        "f.datetime,\n",
        "st_x(f.geom) as longitude,\n",
        "st_y(f.geom) as latitude\n",
        "from paises p\n",
        "inner join fire f on ST_Intersects(p.geom, f.geom)\n",
        "''').to_csv('/content/drive/MyDrive/Colab Notebooks/0001_Dashboard_portfolio/firms_48h.csv')"
      ]
    }
  ]
}